{
 "cells": [
  {
   "cell_type": "code",
   "execution_count": 1,
   "metadata": {},
   "outputs": [],
   "source": [
    "# import\n",
    "import pandas as pd\n",
    "import numpy as np\n",
    "import matplotlib.pylab as plt"
   ]
  },
  {
   "cell_type": "code",
   "execution_count": 15,
   "metadata": {},
   "outputs": [],
   "source": [
    "from sklearn.preprocessing import MinMaxScaler\n",
    "from sklearn.model_selection import train_test_split"
   ]
  },
  {
   "cell_type": "code",
   "execution_count": 3,
   "metadata": {},
   "outputs": [],
   "source": [
    "#data load from excel\n",
    "df=pd.read_excel('E:\\pytong\\cvapr\\clinical_radiomics_imported_from_tsv.xlsx')"
   ]
  },
  {
   "cell_type": "code",
   "execution_count": 4,
   "metadata": {},
   "outputs": [],
   "source": [
    "# feature norma\n",
    "to_normalize=df.loc[:,'original_shape_Elongation':'original_ngtdm_Strength']\n",
    "scalers={}\n",
    "for col in to_normalize.columns:\n",
    "\n",
    "    scaler=MinMaxScaler()\n",
    "    scaler.fit(df[[col]])\n",
    "    scalers[col]=scaler\n",
    "\n",
    "for col in to_normalize.columns:\n",
    "    scaler=scalers[col]\n",
    "    df[col]=scaler.transform(df[[col]])\n",
    "\n",
    "\n"
   ]
  },
  {
   "cell_type": "code",
   "execution_count": 26,
   "metadata": {},
   "outputs": [],
   "source": [
    "# create data set and target set\n",
    "target=df.loc[:,'MFS_cens']\n",
    "\n",
    "data1=df.loc[:,:'location']\n",
    "data2=df.loc[:,'MFS']\n",
    "data3=df.loc[:,'original_shape_Elongation':]\n",
    "data=pd.concat([data1,data2,data3],axis=1)\n",
    "# dodaje tylko kilka poczatkowych kolumn \n",
    "# z tego co zrozumialem mamy korzystac z tych z orginal...\n",
    "# ale wiek plec itp tez moga sie przydac(tak mi sie przynajmniej wydaje)\n"
   ]
  },
  {
   "cell_type": "code",
   "execution_count": 30,
   "metadata": {},
   "outputs": [],
   "source": [
    "# create train validation and test sets\n",
    "\n",
    "x_train, x_test,y_train,y_test=train_test_split(data, target, test_size=0.1, random_state=10)\n",
    "x_train, x_val,y_train,y_val=train_test_split(data,target,test_size=0.2,random_state=10)\n",
    "\n",
    "train_df=pd.DataFrame(x_train)\n",
    "train_df['target']=y_train\n",
    "\n",
    "validation_df=pd.DataFrame(x_val)\n",
    "validation_df['target']=y_val\n",
    "\n",
    "test_df=pd.DataFrame(x_test)\n",
    "test_df['target']=y_train\n",
    "\n",
    "\n",
    "#save_enable=True\n",
    "save_enable=False"
   ]
  },
  {
   "cell_type": "code",
   "execution_count": 31,
   "metadata": {},
   "outputs": [],
   "source": [
    "if save_enable:\n",
    "    train_df.to_csv('train.csv',index=False)\n",
    "    validation_df.to_csv('valid.csv',index=False)\n",
    "    test_df.to_csv('test.csv',index=False)\n",
    "    save_enable=False\n"
   ]
  }
 ],
 "metadata": {
  "kernelspec": {
   "display_name": "base",
   "language": "python",
   "name": "python3"
  },
  "language_info": {
   "codemirror_mode": {
    "name": "ipython",
    "version": 3
   },
   "file_extension": ".py",
   "mimetype": "text/x-python",
   "name": "python",
   "nbconvert_exporter": "python",
   "pygments_lexer": "ipython3",
   "version": "3.9.13"
  },
  "orig_nbformat": 4
 },
 "nbformat": 4,
 "nbformat_minor": 2
}
