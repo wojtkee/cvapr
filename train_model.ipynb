{
 "cells": [
  {
   "cell_type": "code",
   "execution_count": 68,
   "metadata": {},
   "outputs": [],
   "source": [
    "import numpy as np\n",
    "import pandas as pd\n",
    "\n",
    "from keras.models import Sequential\n",
    "from keras.layers import Dense\n",
    "from keras.optimizers import SGD\n",
    "from keras.optimizers import RMSprop\n",
    "from sklearn.model_selection import cross_val_score,KFold\n",
    "\n",
    "\n",
    "import tensorflow as tf\n",
    "import datetime\n",
    "from tensorflow.keras.callbacks import TensorBoard"
   ]
  },
  {
   "cell_type": "code",
   "execution_count": 22,
   "metadata": {},
   "outputs": [],
   "source": [
    "data=pd.read_csv('train_data_ready.csv')\n",
    "x=data.iloc[:,7:22]\n",
    "y=data.loc[:,'target']"
   ]
  },
  {
   "cell_type": "code",
   "execution_count": 117,
   "metadata": {},
   "outputs": [
    {
     "name": "stderr",
     "output_type": "stream",
     "text": [
      "C:\\Users\\wojjj\\AppData\\Roaming\\Python\\Python39\\site-packages\\keras\\optimizers\\legacy\\gradient_descent.py:114: UserWarning: The `lr` argument is deprecated, use `learning_rate` instead.\n",
      "  super().__init__(name, **kwargs)\n"
     ]
    }
   ],
   "source": [
    "model=Sequential()\n",
    "model.add(Dense(5,activation='relu',input_dim=15))\n",
    "model.add(Dense(15,activation='relu'))\n",
    "\n",
    "model.add(Dense(1,activation='relu'))\n",
    "\n",
    "model.compile(loss='binary_crossentropy',\n",
    "               optimizer=SGD(lr=0.01, momentum=0.9), #RMSprop(learning_rate=0.001)\n",
    "               metrics=['accuracy'])"
   ]
  },
  {
   "cell_type": "code",
   "execution_count": 118,
   "metadata": {},
   "outputs": [],
   "source": [
    "kfold=KFold(n_splits=5, shuffle=True,random_state=10)\n",
    "scores=[]"
   ]
  },
  {
   "cell_type": "code",
   "execution_count": 119,
   "metadata": {},
   "outputs": [],
   "source": [
    "log_dir = \"logs/fit/\" + datetime.datetime.now().strftime(\"%Y%m%d-%H%M%S\")\n",
    "tensorboard_callback = TensorBoard(log_dir=log_dir, histogram_freq=1)"
   ]
  },
  {
   "cell_type": "code",
   "execution_count": 120,
   "metadata": {},
   "outputs": [
    {
     "name": "stdout",
     "output_type": "stream",
     "text": [
      "1/1 [==============================] - 0s 172ms/step - loss: 11.5687 - accuracy: 0.2500\n",
      "[11.568711280822754, 0.25]\n",
      "1/1 [==============================] - 0s 29ms/step - loss: 11.5687 - accuracy: 0.2500\n",
      "[11.568711280822754, 0.25]\n",
      "1/1 [==============================] - 0s 30ms/step - loss: 12.0717 - accuracy: 0.2174\n",
      "[12.071699142456055, 0.21739129722118378]\n",
      "1/1 [==============================] - 0s 30ms/step - loss: 9.3891 - accuracy: 0.3913\n",
      "[9.38909912109375, 0.3913043439388275]\n",
      "1/1 [==============================] - 0s 33ms/step - loss: 11.4010 - accuracy: 0.2609\n",
      "[11.40104866027832, 0.260869562625885]\n",
      "Accuracy: 27.39% (+/- 6.05%)\n"
     ]
    }
   ],
   "source": [
    "for train_index, test_index in kfold.split(x):\n",
    "\n",
    "    x_train,x_test=x.iloc[train_index],x.iloc[test_index]\n",
    "    y_train,y_test=y.iloc[train_index],y.iloc[test_index]\n",
    "\n",
    "    model.fit(x_train,y_train,batch_size=8,epochs=1000,verbose=0) #,callbacks=[tensorboard_callback] #<- jak sie doda do modelu to pokazuje statystyki ale wolno się trenuje \n",
    "\n",
    "    score=model.evaluate(x_test,y_test,verbose=1)\n",
    "    scores.append(score[1])\n",
    "    print(score)\n",
    "print('Accuracy: %.2f%% (+/- %.2f%%)' % (np.mean(scores)*100, np.std(scores)*100))"
   ]
  },
  {
   "cell_type": "code",
   "execution_count": 121,
   "metadata": {},
   "outputs": [
    {
     "name": "stdout",
     "output_type": "stream",
     "text": [
      "Model: \"sequential_19\"\n",
      "_________________________________________________________________\n",
      " Layer (type)                Output Shape              Param #   \n",
      "=================================================================\n",
      " dense_85 (Dense)            (None, 5)                 80        \n",
      "                                                                 \n",
      " dense_86 (Dense)            (None, 15)                90        \n",
      "                                                                 \n",
      " dense_87 (Dense)            (None, 1)                 16        \n",
      "                                                                 \n",
      "=================================================================\n",
      "Total params: 186\n",
      "Trainable params: 186\n",
      "Non-trainable params: 0\n",
      "_________________________________________________________________\n"
     ]
    }
   ],
   "source": [
    "model.summary()\n",
    "# %tensorboard --logdir logs/fit"
   ]
  },
  {
   "cell_type": "code",
   "execution_count": 122,
   "metadata": {},
   "outputs": [],
   "source": [
    "model.save('modelV1.h5')"
   ]
  }
 ],
 "metadata": {
  "kernelspec": {
   "display_name": "base",
   "language": "python",
   "name": "python3"
  },
  "language_info": {
   "codemirror_mode": {
    "name": "ipython",
    "version": 3
   },
   "file_extension": ".py",
   "mimetype": "text/x-python",
   "name": "python",
   "nbconvert_exporter": "python",
   "pygments_lexer": "ipython3",
   "version": "3.9.13"
  },
  "orig_nbformat": 4
 },
 "nbformat": 4,
 "nbformat_minor": 2
}
