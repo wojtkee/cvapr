{
 "cells": [
  {
   "cell_type": "code",
   "execution_count": 79,
   "metadata": {},
   "outputs": [],
   "source": [
    "import numpy as np\n",
    "import pandas as pd\n",
    "\n",
    "from keras.models import Sequential\n",
    "from keras.layers import Dense , Dropout, InputLayer\n",
    "from keras.optimizers import SGD\n",
    "from keras.optimizers import RMSprop\n",
    "from sklearn.model_selection import cross_val_score,KFold\n",
    "\n",
    "\n",
    "import tensorflow as tf\n",
    "import datetime\n",
    "from tensorflow.keras.callbacks import TensorBoard"
   ]
  },
  {
   "cell_type": "code",
   "execution_count": 80,
   "metadata": {},
   "outputs": [],
   "source": [
    "data=pd.read_csv('train_data_ready.csv')\n",
    "x=data.iloc[:,7:22]\n",
    "y=data.loc[:,'target']"
   ]
  },
  {
   "cell_type": "code",
   "execution_count": 87,
   "metadata": {},
   "outputs": [],
   "source": [
    "model=Sequential()\n",
    "model.add(InputLayer(input_shape=(15,)))\n",
    "model.add(Dropout(0.7))\n",
    "model.add(Dense(20,activation='relu'))\n",
    "\n",
    "model.add(Dense(5,activation='relu'))\n",
    "\n",
    "\n",
    "model.add(Dense(1,activation='relu'))\n",
    "\n",
    "model.compile(loss='binary_crossentropy',\n",
    "               optimizer='adam', #RMSprop(learning_rate=0.001) #SGD(lr=0.01, momentum=0.9)\n",
    "               metrics=['accuracy'])"
   ]
  },
  {
   "cell_type": "code",
   "execution_count": 88,
   "metadata": {},
   "outputs": [],
   "source": [
    "kfold=KFold(n_splits=5, shuffle=True,random_state=10)\n",
    "scores=[]"
   ]
  },
  {
   "cell_type": "code",
   "execution_count": 89,
   "metadata": {},
   "outputs": [],
   "source": [
    "log_dir = \"logs/fit/\" + datetime.datetime.now().strftime(\"%Y%m%d-%H%M%S\")\n",
    "tensorboard_callback = TensorBoard(log_dir=log_dir, histogram_freq=1)"
   ]
  },
  {
   "cell_type": "code",
   "execution_count": 90,
   "metadata": {},
   "outputs": [
    {
     "name": "stdout",
     "output_type": "stream",
     "text": [
      "1/1 [==============================] - 0s 88ms/step - loss: 0.5878 - accuracy: 0.7500\n",
      "1/1 [==============================] - 0s 17ms/step - loss: 0.6086 - accuracy: 0.7500\n",
      "1/1 [==============================] - 0s 16ms/step - loss: 0.5655 - accuracy: 0.7500\n",
      "1/1 [==============================] - 0s 18ms/step - loss: 0.5831 - accuracy: 0.7500\n",
      "1/1 [==============================] - 0s 16ms/step - loss: 0.6114 - accuracy: 0.7500\n",
      "[0.6114076972007751, 0.75]\n",
      "1/1 [==============================] - 0s 16ms/step - loss: 0.6524 - accuracy: 0.7500\n",
      "1/1 [==============================] - 0s 17ms/step - loss: 0.6618 - accuracy: 0.7500\n",
      "1/1 [==============================] - 0s 17ms/step - loss: 0.6656 - accuracy: 0.7500\n",
      "1/1 [==============================] - 0s 17ms/step - loss: 0.6376 - accuracy: 0.7500\n",
      "1/1 [==============================] - 0s 16ms/step - loss: 0.6695 - accuracy: 0.7500\n",
      "[0.6695348620414734, 0.75]\n",
      "1/1 [==============================] - 0s 18ms/step - loss: 0.6465 - accuracy: 0.7826\n",
      "1/1 [==============================] - 0s 17ms/step - loss: 0.7759 - accuracy: 0.7826\n",
      "1/1 [==============================] - 0s 18ms/step - loss: 0.6767 - accuracy: 0.7826\n",
      "1/1 [==============================] - 0s 17ms/step - loss: 0.6292 - accuracy: 0.7826\n",
      "1/1 [==============================] - 0s 17ms/step - loss: 0.6092 - accuracy: 0.7826\n",
      "[0.6092432141304016, 0.782608687877655]\n",
      "1/1 [==============================] - 0s 18ms/step - loss: 0.8041 - accuracy: 0.6087\n",
      "1/1 [==============================] - 0s 18ms/step - loss: 0.7602 - accuracy: 0.6087\n",
      "1/1 [==============================] - 0s 19ms/step - loss: 0.7370 - accuracy: 0.6087\n",
      "1/1 [==============================] - 0s 17ms/step - loss: 0.8075 - accuracy: 0.6087\n",
      "1/1 [==============================] - 0s 18ms/step - loss: 0.7262 - accuracy: 0.6087\n",
      "[0.7262042760848999, 0.6086956262588501]\n",
      "1/1 [==============================] - 0s 17ms/step - loss: 0.6377 - accuracy: 0.7391\n",
      "1/1 [==============================] - 0s 18ms/step - loss: 0.6163 - accuracy: 0.7391\n",
      "1/1 [==============================] - 0s 17ms/step - loss: 0.6250 - accuracy: 0.7391\n",
      "1/1 [==============================] - 0s 20ms/step - loss: 0.6379 - accuracy: 0.7391\n",
      "1/1 [==============================] - 0s 17ms/step - loss: 0.6642 - accuracy: 0.7391\n",
      "[0.6642099618911743, 0.739130437374115]\n",
      "Accuracy: 72.61% (+/- 6.05%)\n"
     ]
    }
   ],
   "source": [
    "for train_index, test_index in kfold.split(x):\n",
    "\n",
    "    x_train,x_test=x.iloc[train_index],x.iloc[test_index]\n",
    "    y_train,y_test=y.iloc[train_index],y.iloc[test_index]\n",
    "\n",
    "    for i in range(5):\n",
    "        model.fit(x_train,y_train,batch_size=8,epochs=1000,verbose=0) #,callbacks=[tensorboard_callback] #<- jak sie doda do modelu to pokazuje statystyki ale wolno się trenuje \n",
    "        score=model.evaluate(x_test,y_test,verbose=1)\n",
    "    scores.append(score[1])\n",
    "    print(score)\n",
    "print('Accuracy: %.2f%% (+/- %.2f%%)' % (np.mean(scores)*100, np.std(scores)*100))"
   ]
  },
  {
   "cell_type": "code",
   "execution_count": 91,
   "metadata": {},
   "outputs": [
    {
     "name": "stdout",
     "output_type": "stream",
     "text": [
      "Model: \"sequential_15\"\n",
      "_________________________________________________________________\n",
      " Layer (type)                Output Shape              Param #   \n",
      "=================================================================\n",
      " dropout_4 (Dropout)         (None, 15)                0         \n",
      "                                                                 \n",
      " dense_30 (Dense)            (None, 20)                320       \n",
      "                                                                 \n",
      " dense_31 (Dense)            (None, 5)                 105       \n",
      "                                                                 \n",
      " dense_32 (Dense)            (None, 1)                 6         \n",
      "                                                                 \n",
      "=================================================================\n",
      "Total params: 431\n",
      "Trainable params: 431\n",
      "Non-trainable params: 0\n",
      "_________________________________________________________________\n"
     ]
    }
   ],
   "source": [
    "model.summary()\n",
    "# %tensorboard --logdir logs/fit"
   ]
  },
  {
   "cell_type": "code",
   "execution_count": 92,
   "metadata": {},
   "outputs": [],
   "source": [
    "model.save('modelV1.h5')"
   ]
  }
 ],
 "metadata": {
  "kernelspec": {
   "display_name": "base",
   "language": "python",
   "name": "python3"
  },
  "language_info": {
   "codemirror_mode": {
    "name": "ipython",
    "version": 3
   },
   "file_extension": ".py",
   "mimetype": "text/x-python",
   "name": "python",
   "nbconvert_exporter": "python",
   "pygments_lexer": "ipython3",
   "version": "3.9.13"
  },
  "orig_nbformat": 4
 },
 "nbformat": 4,
 "nbformat_minor": 2
}
