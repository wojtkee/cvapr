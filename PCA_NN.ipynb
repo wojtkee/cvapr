{
 "cells": [
  {
   "cell_type": "code",
   "execution_count": 5,
   "metadata": {},
   "outputs": [],
   "source": [
    "import pandas as pd\n",
    "import numpy as np\n",
    "from sklearn.decomposition import PCA\n",
    "from sklearn.preprocessing import StandardScaler, RobustScaler\n",
    "from keras.models import Sequential\n",
    "from keras.layers import Dense , Dropout, InputLayer\n",
    "from keras.optimizers import SGD\n",
    "from keras.optimizers import RMSprop\n",
    "from sklearn.model_selection import cross_val_score,KFold\n",
    "from sklearn.model_selection import train_test_split\n",
    "\n",
    "\n",
    "\n"
   ]
  },
  {
   "cell_type": "code",
   "execution_count": 6,
   "metadata": {},
   "outputs": [],
   "source": [
    "data=pd.read_excel('clinical_radiomics_imported_from_tsv.xlsx')\n",
    "data_to_pca=data.loc[:,'original_shape_Elongation':'original_ngtdm_Strength']\n",
    "target=data.loc[:,'MFS_cens']"
   ]
  },
  {
   "cell_type": "code",
   "execution_count": 7,
   "metadata": {},
   "outputs": [],
   "source": [
    "scaler=StandardScaler()\n",
    "data_scaled=scaler.fit_transform(data_to_pca)\n",
    "\n"
   ]
  },
  {
   "cell_type": "code",
   "execution_count": 8,
   "metadata": {},
   "outputs": [],
   "source": [
    "pca=PCA(n_components=10)\n",
    "pca.fit(data_scaled)\n",
    "data_pca=pca.transform(data_scaled)\n",
    "data_pca=pd.DataFrame(data_pca)\n"
   ]
  },
  {
   "cell_type": "code",
   "execution_count": 9,
   "metadata": {},
   "outputs": [
    {
     "name": "stdout",
     "output_type": "stream",
     "text": [
      "[0.4153947  0.15220385 0.11630564 0.07561596 0.05064658 0.03913676\n",
      " 0.02630412 0.01690465 0.01379928 0.01229   ]\n"
     ]
    }
   ],
   "source": [
    "print(pca.explained_variance_ratio_)"
   ]
  },
  {
   "cell_type": "code",
   "execution_count": 10,
   "metadata": {},
   "outputs": [],
   "source": [
    "x_train, x_test,y_train,y_test=train_test_split(data_pca, target, test_size=0.2, random_state=20)\n",
    "\n"
   ]
  },
  {
   "cell_type": "code",
   "execution_count": 11,
   "metadata": {},
   "outputs": [],
   "source": [
    "model=Sequential()\n",
    "model.add(InputLayer(input_shape=(10,)))\n",
    "# model.add(Dropout(0.7))\n",
    "\n",
    "# model.add(Dense(20,activation='relu'))\n",
    "model.add(Dense(10,activation='relu'))\n",
    "model.add(Dense(1,activation='relu'))\n",
    "model.compile(loss='binary_crossentropy',\n",
    "               optimizer='adam', #RMSprop(learning_rate=0.001) #SGD(lr=0.01, momentum=0.9)\n",
    "               metrics=['accuracy'])"
   ]
  },
  {
   "cell_type": "code",
   "execution_count": 12,
   "metadata": {},
   "outputs": [],
   "source": [
    "kfold=KFold(n_splits=5, shuffle=True,random_state=10)\n",
    "# scores=[]"
   ]
  },
  {
   "cell_type": "code",
   "execution_count": 13,
   "metadata": {},
   "outputs": [
    {
     "name": "stdout",
     "output_type": "stream",
     "text": [
      "Accuracy: 0.6666666666666666\n",
      "Accuracy: 0.7142857142857143\n",
      "Accuracy: 0.7142857142857143\n",
      "Accuracy: 0.7619047619047619\n",
      "Accuracy: 0.75\n"
     ]
    }
   ],
   "source": [
    "for train_index, test_index in kfold.split(x_train):\n",
    "\n",
    "    x_train_model,x_test_model=x_train.iloc[train_index],x_train.iloc[test_index]\n",
    "    y_train_model,y_test_model=y_train.iloc[train_index],y_train.iloc[test_index]\n",
    "    for i in range(10):\n",
    "        model.fit(x_train_model,y_train_model,batch_size=8,epochs=1000,verbose=0) #,callbacks=[tensorboard_callback] #<- jak sie doda do modelu to pokazuje statystyki ale wolno się trenuje \n",
    "        score=model.evaluate(x_test,y_test,verbose=1)\n",
    "    scores.append(score[1])\n",
    "    print(score)\n",
    "print('Accuracy: %.2f%% (+/- %.2f%%)' % (np.mean(scores)*100, np.std(scores)*100))"
   ]
  },
  {
   "cell_type": "code",
   "execution_count": 14,
   "metadata": {},
   "outputs": [
    {
     "name": "stdout",
     "output_type": "stream",
     "text": [
      "Accuracy: 0.6666666666666666\n"
     ]
    }
   ],
   "source": [
    "test_loss, test_acc = model.evaluate(x_test, y_test, verbose=2)\n",
    "print('Test accuracy:', test_acc)"
   ]
  }
 ],
 "metadata": {
  "kernelspec": {
   "display_name": "base",
   "language": "python",
   "name": "python3"
  },
  "language_info": {
   "codemirror_mode": {
    "name": "ipython",
    "version": 3
   },
   "file_extension": ".py",
   "mimetype": "text/x-python",
   "name": "python",
   "nbconvert_exporter": "python",
   "pygments_lexer": "ipython3",
   "version": "3.9.13"
  },
  "orig_nbformat": 4
 },
 "nbformat": 4,
 "nbformat_minor": 2
}
