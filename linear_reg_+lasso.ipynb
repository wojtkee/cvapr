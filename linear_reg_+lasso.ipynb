{
 "cells": [
  {
   "cell_type": "code",
   "execution_count": 55,
   "metadata": {},
   "outputs": [],
   "source": [
    "import pandas as pd\n",
    "import numpy as np\n",
    "import xgboost as xgb\n",
    "\n",
    "\n",
    "from sklearn.preprocessing import RobustScaler\n",
    "from sklearn.model_selection import train_test_split\n",
    "from sklearn.linear_model import Lasso, Ridge\n",
    "from sklearn.metrics import accuracy_score\n",
    "from sklearn.linear_model import LogisticRegression\n",
    "\n"
   ]
  },
  {
   "cell_type": "code",
   "execution_count": 3,
   "metadata": {},
   "outputs": [],
   "source": [
    "data=pd.read_excel('clinical_radiomics_imported_from_tsv.xlsx')\n",
    "x=data.loc[:,'original_shape_Elongation':'original_ngtdm_Strength']\n",
    "y=data.loc[:,'MFS_cens']"
   ]
  },
  {
   "cell_type": "code",
   "execution_count": 4,
   "metadata": {},
   "outputs": [],
   "source": [
    "x_train, x_test,y_train,y_test=train_test_split(x, y, test_size=0.2, random_state=20)"
   ]
  },
  {
   "cell_type": "code",
   "execution_count": 63,
   "metadata": {},
   "outputs": [
    {
     "name": "stderr",
     "output_type": "stream",
     "text": [
      "c:\\ProgramData\\Anaconda3\\lib\\site-packages\\sklearn\\linear_model\\_ridge.py:196: UserWarning: Singular matrix in solving dual problem. Using least-squares solution instead.\n",
      "  warnings.warn(\n"
     ]
    }
   ],
   "source": [
    "# regressor = Lasso(alpha=1.9)\n",
    "# regressor.fit(x_train, y_train)\n",
    "# important_features = np.where(regressor.coef_ != 0)[0]\n",
    "\n",
    "# X_train_reduced = x_train.iloc[:, important_features]\n",
    "# X_test_reduced = x_test.iloc[:, important_features]\n",
    "\n",
    "\n",
    "regressor = Ridge(alpha=2)\n",
    "regressor.fit(x_train, y_train)\n",
    "important_features = np.where(regressor.coef_ != 0)[0]\n",
    "\n",
    "X_train_reduced = x_train.iloc[:, important_features]\n",
    "X_test_reduced = x_test.iloc[:, important_features]"
   ]
  },
  {
   "cell_type": "code",
   "execution_count": 64,
   "metadata": {},
   "outputs": [],
   "source": [
    "scaler=RobustScaler()\n",
    "X_train_final=scaler.fit_transform(X_train_reduced)\n",
    "X_test_final=scaler.transform(X_test_reduced)\n"
   ]
  },
  {
   "cell_type": "code",
   "execution_count": 65,
   "metadata": {},
   "outputs": [
    {
     "name": "stdout",
     "output_type": "stream",
     "text": [
      "Accuracy: 0.6296296296296297\n",
      "Accuracy: 0.8653846153846154\n"
     ]
    },
    {
     "name": "stderr",
     "output_type": "stream",
     "text": [
      "c:\\ProgramData\\Anaconda3\\lib\\site-packages\\sklearn\\linear_model\\_logistic.py:814: ConvergenceWarning: lbfgs failed to converge (status=1):\n",
      "STOP: TOTAL NO. of ITERATIONS REACHED LIMIT.\n",
      "\n",
      "Increase the number of iterations (max_iter) or scale the data as shown in:\n",
      "    https://scikit-learn.org/stable/modules/preprocessing.html\n",
      "Please also refer to the documentation for alternative solver options:\n",
      "    https://scikit-learn.org/stable/modules/linear_model.html#logistic-regression\n",
      "  n_iter_i = _check_optimize_result(\n"
     ]
    }
   ],
   "source": [
    "model = LogisticRegression(random_state=0).fit(X_train_final, y_train)\n",
    "# Trenowanie modelu\n",
    "# model.fit(X_train_final, y_train)\n",
    "\n",
    "# Predykcja dla zbioru testowego\n",
    "y_pred = model.predict(X_test_final)\n",
    "y_pred_1 = model.predict(X_train_final)\n",
    "\n",
    "# Wyświetlenie dokładności predykcji\n",
    "print(\"Accuracy:\", accuracy_score(y_test, y_pred))\n",
    "print(\"Accuracy:\", accuracy_score(y_train, y_pred_1))"
   ]
  }
 ],
 "metadata": {
  "kernelspec": {
   "display_name": "base",
   "language": "python",
   "name": "python3"
  },
  "language_info": {
   "codemirror_mode": {
    "name": "ipython",
    "version": 3
   },
   "file_extension": ".py",
   "mimetype": "text/x-python",
   "name": "python",
   "nbconvert_exporter": "python",
   "pygments_lexer": "ipython3",
   "version": "3.9.13"
  },
  "orig_nbformat": 4
 },
 "nbformat": 4,
 "nbformat_minor": 2
}
